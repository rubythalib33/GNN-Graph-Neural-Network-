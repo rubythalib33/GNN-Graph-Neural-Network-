{
  "nbformat": 4,
  "nbformat_minor": 0,
  "metadata": {
    "colab": {
      "name": "GNN(Graph Neural Network).ipynb",
      "provenance": [],
      "collapsed_sections": []
    },
    "kernelspec": {
      "name": "python3",
      "display_name": "Python 3"
    }
  },
  "cells": [
    {
      "cell_type": "markdown",
      "metadata": {
        "id": "Jhb76XpYaMpV",
        "colab_type": "text"
      },
      "source": [
        "Thank You Siraj for the lesson"
      ]
    },
    {
      "cell_type": "code",
      "metadata": {
        "id": "GpO-DXpRZR6O",
        "colab_type": "code",
        "colab": {}
      },
      "source": [
        "%matplotlib inline"
      ],
      "execution_count": 0,
      "outputs": []
    },
    {
      "cell_type": "code",
      "metadata": {
        "id": "V11DL2A_a-eK",
        "colab_type": "code",
        "colab": {
          "base_uri": "https://localhost:8080/",
          "height": 275
        },
        "outputId": "6c088b08-202f-4b60-c6ec-33d8232e4837"
      },
      "source": [
        "!pip install dgl"
      ],
      "execution_count": 2,
      "outputs": [
        {
          "output_type": "stream",
          "text": [
            "Collecting dgl\n",
            "\u001b[?25l  Downloading https://files.pythonhosted.org/packages/9f/07/978ee25929b35e1e9c8165407683e3f4f1565a75f699a6da7cb48bf492d8/dgl-0.4.3-cp36-cp36m-manylinux1_x86_64.whl (3.0MB)\n",
            "\u001b[K     |████████████████████████████████| 3.0MB 4.6MB/s \n",
            "\u001b[?25hRequirement already satisfied: numpy>=1.14.0 in /usr/local/lib/python3.6/dist-packages (from dgl) (1.18.2)\n",
            "Requirement already satisfied: networkx>=2.1 in /usr/local/lib/python3.6/dist-packages (from dgl) (2.4)\n",
            "Requirement already satisfied: scipy>=1.1.0 in /usr/local/lib/python3.6/dist-packages (from dgl) (1.4.1)\n",
            "Requirement already satisfied: requests>=2.19.0 in /usr/local/lib/python3.6/dist-packages (from dgl) (2.21.0)\n",
            "Requirement already satisfied: decorator>=4.3.0 in /usr/local/lib/python3.6/dist-packages (from networkx>=2.1->dgl) (4.4.2)\n",
            "Requirement already satisfied: certifi>=2017.4.17 in /usr/local/lib/python3.6/dist-packages (from requests>=2.19.0->dgl) (2019.11.28)\n",
            "Requirement already satisfied: idna<2.9,>=2.5 in /usr/local/lib/python3.6/dist-packages (from requests>=2.19.0->dgl) (2.8)\n",
            "Requirement already satisfied: chardet<3.1.0,>=3.0.2 in /usr/local/lib/python3.6/dist-packages (from requests>=2.19.0->dgl) (3.0.4)\n",
            "Requirement already satisfied: urllib3<1.25,>=1.21.1 in /usr/local/lib/python3.6/dist-packages (from requests>=2.19.0->dgl) (1.24.3)\n",
            "Installing collected packages: dgl\n",
            "Successfully installed dgl-0.4.3\n"
          ],
          "name": "stdout"
        }
      ]
    },
    {
      "cell_type": "code",
      "metadata": {
        "id": "3yWzdeNsbJvV",
        "colab_type": "code",
        "colab": {}
      },
      "source": [
        "import dgl\n",
        "import numpy as np\n",
        "\n",
        "\n",
        "def build_toy_graph():\n",
        "  src = np.array([1, 2, 2, 3, 3, 3, 4, 5, 6, 6, 6, 7, 7, 7, 7, 8, 8, 9, 10, 10,\n",
        "        10, 11, 12, 12, 13, 13, 13, 13, 16, 16, 17, 17, 19, 19, 21, 21,\n",
        "        25, 25, 27, 27, 27, 28, 29, 29, 30, 30, 31, 31, 31, 31, 32, 32,\n",
        "        32, 32, 32, 32, 32, 32, 32, 32, 32, 33, 33, 33, 33, 33, 33, 33,\n",
        "        33, 33, 33, 33, 33, 33, 33, 33, 33, 33])\n",
        "  dst = np.array([0, 0, 1, 0, 1, 2, 0, 0, 0, 4, 5, 0, 1, 2, 3, 0, 2, 2, 0, 4,\n",
        "        5, 0, 0, 3, 0, 1, 2, 3, 5, 6, 0, 1, 0, 1, 0, 1, 23, 24, 2, 23,\n",
        "        24, 2, 23, 26, 1, 8, 0, 24, 25, 28, 2, 8, 14, 15, 18, 20, 22, 23,\n",
        "        29, 30, 31, 8, 9, 13, 14, 15, 18, 19, 20, 22, 23, 26, 27, 28, 29, 30,\n",
        "        31, 32])\n",
        "  # edge_list = [(1,0),(2,0),(2,1),(3,0),(3,1),(3,2),(4,0),(5,0),(6,0),(6,4),\n",
        "  #              (6,5),(7,0),(7,1),(7,2),(7,3),(8,0),(8,2),(9,2),(10,0),(10,4),(10,5),\n",
        "  #              (11,0),(12,0),(12,3),(13,0),(13,1),(13,2),(13,3),(16,5),(16,6),(17,0),\n",
        "  #              (17,1),(19,0),(19,1),(21,0),(21,1),(25,23),(25,24),(27,2),(27,23),\n",
        "  #              (27,24),(28,2),(29,29),(29,26),(30,1),(30,8),(31,0),(31,24),(31,25),(31,28),(32,2),(32,8),\n",
        "  #              (32,14),(32,15),(32,18),(32,20),(32,22),(32,23),(32,29),(32,30),(32,31),(33,14),(33,15),(33,18),\n",
        "  #              (33,19),(33,20),(33,22),(33,23),(33,26),(33,27),(33,28),(33,29),(33,30),(33,31),(33,32)]\n",
        "  u = np.concatenate([src,dst])\n",
        "  v = np.concatenate([dst,src])\n",
        "  return dgl.DGLGraph((u,v))"
      ],
      "execution_count": 0,
      "outputs": []
    },
    {
      "cell_type": "code",
      "metadata": {
        "id": "YmLMc3k4eIfS",
        "colab_type": "code",
        "colab": {
          "base_uri": "https://localhost:8080/",
          "height": 51
        },
        "outputId": "12318570-3e8f-4c3f-f1ce-762f4b626816"
      },
      "source": [
        "G = build_toy_graph()\n",
        "print(\"we have %d nodes\" % G.number_of_nodes())\n",
        "print(\"we have %d edges\" % G.number_of_edges())"
      ],
      "execution_count": 23,
      "outputs": [
        {
          "output_type": "stream",
          "text": [
            "we have 34 nodes\n",
            "we have 156 edges\n"
          ],
          "name": "stdout"
        }
      ]
    },
    {
      "cell_type": "code",
      "metadata": {
        "id": "mgicSfu9eoyQ",
        "colab_type": "code",
        "colab": {
          "base_uri": "https://localhost:8080/",
          "height": 319
        },
        "outputId": "d6cc574c-a603-4373-8d73-e1809a08fea5"
      },
      "source": [
        "import networkx as nx\n",
        "nx_G = G.to_networkx().to_undirected()\n",
        "pos=nx.kamada_kawai_layout(nx_G)\n",
        "nx.draw(nx_G, pos, with_labels=True, node_color=[[.7,.7,.7]])"
      ],
      "execution_count": 24,
      "outputs": [
        {
          "output_type": "display_data",
          "data": {
            "image/png": "[encoded data removed]",
            "text/plain": [
              "<Figure size 432x288 with 1 Axes>"
            ]
          },
          "metadata": {
            "tags": []
          }
        }
      ]
    },
    {
      "cell_type": "code",
      "metadata": {
        "id": "UzGkKo9sflv2",
        "colab_type": "code",
        "colab": {}
      },
      "source": [
        "import torch\n",
        "import torch.nn as nn\n",
        "import torch.nn.functional as F\n",
        "\n",
        "embed = nn.Embedding(34,5)\n",
        "G.ndata['feat'] = embed.weight"
      ],
      "execution_count": 0,
      "outputs": []
    },
    {
      "cell_type": "code",
      "metadata": {
        "id": "tJQNsWZQf2Ng",
        "colab_type": "code",
        "colab": {
          "base_uri": "https://localhost:8080/",
          "height": 102
        },
        "outputId": "d08a1494-5611-430d-a5e5-aa4c737240f9"
      },
      "source": [
        "print(G.nodes[2].data['feat'])\n",
        "\n",
        "print(G.nodes[10,11].data['feat'])"
      ],
      "execution_count": 32,
      "outputs": [
        {
          "output_type": "stream",
          "text": [
            "tensor([[ 0.8632,  0.3264, -0.9760, -1.2439,  1.9873]],\n",
            "       grad_fn=<IndexSelectBackward>)\n",
            "tensor([[ 0.9286, -0.0844,  1.0728, -1.1117, -0.6052],\n",
            "        [ 1.7622, -1.7470, -0.0061,  0.5057,  1.3925]],\n",
            "       grad_fn=<IndexSelectBackward>)\n"
          ],
          "name": "stdout"
        }
      ]
    },
    {
      "cell_type": "code",
      "metadata": {
        "id": "Ys90XPSwgAR2",
        "colab_type": "code",
        "colab": {}
      },
      "source": [
        "from dgl.nn.pytorch import GraphConv"
      ],
      "execution_count": 0,
      "outputs": []
    },
    {
      "cell_type": "code",
      "metadata": {
        "id": "X0OFWWbriBci",
        "colab_type": "code",
        "colab": {}
      },
      "source": [
        "class GCN(nn.Module):\n",
        "  def __init__(self, in_feats, hidden_size, num_classes):\n",
        "    super(GCN, self).__init__()\n",
        "    self.gcn1 = GraphConv(in_feats, hidden_size)\n",
        "    self.gcn2 = GraphConv(hidden_size, num_classes)\n",
        "\n",
        "  def forward(self, g, inputs):\n",
        "    h = self.gcn1(g,inputs)\n",
        "    h = torch.relu(h)\n",
        "    h = self.gcn2(g,h)\n",
        "    return h\n",
        "\n",
        "net = GCN(5,5,2)"
      ],
      "execution_count": 0,
      "outputs": []
    },
    {
      "cell_type": "code",
      "metadata": {
        "id": "WiM45m_HvfEs",
        "colab_type": "code",
        "colab": {}
      },
      "source": [
        "inputs = embed.weight\n",
        "labeled_nodes = torch.tensor([0,33])\n",
        "labels = torch.tensor([0,1])"
      ],
      "execution_count": 0,
      "outputs": []
    },
    {
      "cell_type": "code",
      "metadata": {
        "id": "0lmhG4frv3K3",
        "colab_type": "code",
        "colab": {
          "base_uri": "https://localhost:8080/",
          "height": 527
        },
        "outputId": "c35b98a0-f4f5-4e1d-cd48-b1752777f7c1"
      },
      "source": [
        "import itertools\n",
        "optimizer = torch.optim.Adam(itertools.chain(net.parameters()), lr=0.01)\n",
        "all_logits = []\n",
        "for epoch in range(30):\n",
        "  logits = net(G,inputs)\n",
        "  all_logits.append(logits.detach())\n",
        "  logp= F.log_softmax(logits,1)\n",
        "  loss = F.nll_loss(logp[labeled_nodes], labels)\n",
        "\n",
        "  optimizer.zero_grad()\n",
        "  loss.backward()\n",
        "  optimizer.step()\n",
        "\n",
        "  print('Epoch %d | Loss: %.4f' % (epoch,loss.item()))"
      ],
      "execution_count": 51,
      "outputs": [
        {
          "output_type": "stream",
          "text": [
            "Epoch 0 | Loss: 0.2565\n",
            "Epoch 1 | Loss: 0.2439\n",
            "Epoch 2 | Loss: 0.2316\n",
            "Epoch 3 | Loss: 0.2197\n",
            "Epoch 4 | Loss: 0.2083\n",
            "Epoch 5 | Loss: 0.1974\n",
            "Epoch 6 | Loss: 0.1869\n",
            "Epoch 7 | Loss: 0.1767\n",
            "Epoch 8 | Loss: 0.1669\n",
            "Epoch 9 | Loss: 0.1574\n",
            "Epoch 10 | Loss: 0.1484\n",
            "Epoch 11 | Loss: 0.1396\n",
            "Epoch 12 | Loss: 0.1316\n",
            "Epoch 13 | Loss: 0.1238\n",
            "Epoch 14 | Loss: 0.1163\n",
            "Epoch 15 | Loss: 0.1092\n",
            "Epoch 16 | Loss: 0.1023\n",
            "Epoch 17 | Loss: 0.0959\n",
            "Epoch 18 | Loss: 0.0898\n",
            "Epoch 19 | Loss: 0.0840\n",
            "Epoch 20 | Loss: 0.0788\n",
            "Epoch 21 | Loss: 0.0740\n",
            "Epoch 22 | Loss: 0.0694\n",
            "Epoch 23 | Loss: 0.0651\n",
            "Epoch 24 | Loss: 0.0611\n",
            "Epoch 25 | Loss: 0.0572\n",
            "Epoch 26 | Loss: 0.0536\n",
            "Epoch 27 | Loss: 0.0503\n",
            "Epoch 28 | Loss: 0.0471\n",
            "Epoch 29 | Loss: 0.0442\n"
          ],
          "name": "stdout"
        }
      ]
    },
    {
      "cell_type": "code",
      "metadata": {
        "id": "npfKt3m2w5dC",
        "colab_type": "code",
        "colab": {}
      },
      "source": [
        "import matplotlib.pyplot as plt\n",
        "import matplotlib.animation as animation\n",
        "\n",
        "def draw(i):\n",
        "  cls1color = '#00FFFF'\n",
        "  cls2color = '#FF00FF'\n",
        "  pos = {}\n",
        "  colors = []\n",
        "\n",
        "  for v in range(34):\n",
        "    pos[v]= all_logits[i][v].numpy()\n",
        "    cls = pos[v].argmax()\n",
        "    colors.append(cls1color if cls else cls2color)\n",
        "  \n",
        "  ax.cla()\n",
        "  ax.axis('off')\n",
        "  ax.set_title('Epoch: %d' % i)\n",
        "  nx.draw_networkx(nx_G.to_undirected(), pos, node_color=colors,\n",
        "                   with_labels=True,node_size=300, ax=ax)\n",
        "  \n",
        "fig = plt.figure(dpi=150)\n",
        "fig.clf()\n",
        "ax = fig.subplots()\n",
        "draw(28)\n",
        "plt.close()"
      ],
      "execution_count": 0,
      "outputs": []
    },
    {
      "cell_type": "code",
      "metadata": {
        "id": "DZKJ8r5Q5VGb",
        "colab_type": "code",
        "colab": {}
      },
      "source": [
        "ani = animation.FuncAnimation(fig, draw, frames=len(all_logits), interval=200)"
      ],
      "execution_count": 0,
      "outputs": []
    },
    {
      "cell_type": "code",
      "metadata": {
        "id": "tnpUIEpV524d",
        "colab_type": "code",
        "colab": {}
      },
      "source": [
        ""
      ],
      "execution_count": 0,
      "outputs": []
    }
  ]
}